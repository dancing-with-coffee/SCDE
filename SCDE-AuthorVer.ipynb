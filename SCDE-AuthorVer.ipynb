{
 "cells": [
  {
   "cell_type": "markdown",
   "metadata": {},
   "source": [
    "## To-do List\n",
    "\n",
    "1) keras로 Deep Autoencoder\n",
    "(same as in DEC) --> DEC 관련 논문 3개는 읽어봐야 할듯.\n",
    "\n",
    "**hyperparameter**\n",
    "- d-500-500-2000-10-2000-500-500-d (deep autoencoder)\n",
    "- activation : ReLU\n",
    "- epochs : 50\n",
    "- minibatch size : 256\n",
    "\n",
    "\n",
    "2) sklearn으로 Spectral Clustering\n",
    "- K-NN Graph에서 K는 5로 고정되어있다. (fashion-MNIST, 20newsgroup)"
   ]
  },
  {
   "cell_type": "code",
   "execution_count": 1,
   "metadata": {},
   "outputs": [],
   "source": [
    "from time import time\n",
    "import os\n",
    "import pickle\n",
    "\n",
    "import numpy as np\n",
    "import tensorflow as tf\n",
    "\n",
    "from tensorflow.keras.datasets import fashion_mnist\n",
    "from tensorflow.keras.layers import Input, Dense, Flatten, Reshape\n",
    "from tensorflow.keras.models import Model\n",
    "from tensorflow.keras.losses import MeanSquaredError\n",
    "\n",
    "import matplotlib.pyplot as plt\n",
    "%matplotlib inline"
   ]
  },
  {
   "cell_type": "code",
   "execution_count": 2,
   "metadata": {},
   "outputs": [],
   "source": [
    "from sklearn.datasets import fetch_20newsgroups\n",
    "#from sklearn.cluster import SpectralClustering\n",
    "from sklearn.cluster import KMeans\n",
    "from sklearn.neighbors import kneighbors_graph\n",
    "from sklearn.manifold import SpectralEmbedding\n",
    "from sklearn.preprocessing import normalize\n",
    "from sklearn.feature_extraction.text import TfidfVectorizer\n",
    "from sklearn.model_selection import train_test_split\n",
    "\n",
    "from sklearn.metrics import pairwise_distances\n",
    "\n",
    "from sklearn.metrics import adjusted_rand_score\n",
    "from sklearn.metrics import normalized_mutual_info_score"
   ]
  },
  {
   "cell_type": "markdown",
   "metadata": {},
   "source": [
    "### fashion-mnist load "
   ]
  },
  {
   "cell_type": "code",
   "execution_count": 3,
   "metadata": {},
   "outputs": [
    {
     "name": "stdout",
     "output_type": "stream",
     "text": [
      "(60000, 28, 28)\n",
      "(10000, 28, 28)\n",
      "(60000,)\n",
      "(10000,)\n"
     ]
    }
   ],
   "source": [
    "(x_train, y_train), (x_test, y_test) = fashion_mnist.load_data()\n",
    "\n",
    "x_train = x_train.astype(\"float32\") / 255.\n",
    "x_test = x_test.astype(\"float32\") / 255.\n",
    "\n",
    "y_train = y_train.astype(\"float32\") / 255.\n",
    "y_test = y_test.astype(\"float32\") / 255.\n",
    "\n",
    "print(x_train.shape)\n",
    "print(x_test.shape)\n",
    "print(y_train.shape)\n",
    "print(y_test.shape)"
   ]
  },
  {
   "cell_type": "markdown",
   "metadata": {},
   "source": [
    "### 20newsgroup load "
   ]
  },
  {
   "cell_type": "code",
   "execution_count": 4,
   "metadata": {},
   "outputs": [
    {
     "name": "stdout",
     "output_type": "stream",
     "text": [
      "14134\n",
      "4712\n",
      "14134\n",
      "4712\n",
      "(14134, 2000)\n",
      "(4712, 2000)\n"
     ]
    }
   ],
   "source": [
    "dataset = fetch_20newsgroups(subset='all')\n",
    "X = dataset.data\n",
    "Y = dataset.target\n",
    "\n",
    "\n",
    "X_train, X_test, Y_train, Y_test = train_test_split(X, Y, test_size=0.25,\n",
    "                                                   random_state=42)\n",
    "\n",
    "print(len(X_train))\n",
    "print(len(X_test))\n",
    "print(len(Y_train))\n",
    "print(len(Y_test))\n",
    "\n",
    "vectorizer = TfidfVectorizer(max_features=2000)\n",
    "\n",
    "tfidf_X_train = vectorizer.fit_transform(X_train).toarray()\n",
    "tfidf_X_test = vectorizer.fit_transform(X_test).toarray()\n",
    "print(tfidf_X_train.shape)\n",
    "print(tfidf_X_test.shape)"
   ]
  },
  {
   "cell_type": "markdown",
   "metadata": {},
   "source": [
    "### Autoencoder for fashion-mnist "
   ]
  },
  {
   "cell_type": "code",
   "execution_count": 5,
   "metadata": {},
   "outputs": [],
   "source": [
    "class Autoencoder(Model):\n",
    "    def __init__(self, dim1, dim2, dim3, latent_dim):\n",
    "        super(Autoencoder, self).__init__()\n",
    "        #super().__init__()\n",
    "        self.dim1 = dim1\n",
    "        self.dim2 = dim2\n",
    "        self.dim3 = dim3\n",
    "        self.latent_dim = latent_dim\n",
    "        self.encoder = tf.keras.Sequential([\n",
    "            Input(shape=(28, 28)),\n",
    "            Flatten(),\n",
    "            Dense(dim1, activation='relu'), #500\n",
    "            Dense(dim2, activation='relu'), #500\n",
    "            Dense(dim3, activation='relu'), #2000\n",
    "            Dense(latent_dim) # 10\n",
    "        ])\n",
    "        self.decoder = tf.keras.Sequential([\n",
    "            Dense(dim3, activation='relu'), # 2000\n",
    "            Dense(dim2, activation='relu'), # 500\n",
    "            Dense(dim1, activation='relu'), # 500\n",
    "            Dense(784), # d\n",
    "            Reshape((28, 28))\n",
    "        ])\n",
    "        \n",
    "    def call(self, x):\n",
    "        encoded = self.encoder(x)\n",
    "        decoded = self.decoder(encoded)\n",
    "        return decoded"
   ]
  },
  {
   "cell_type": "markdown",
   "metadata": {},
   "source": [
    "### Autoencoder for 20newsgroup "
   ]
  },
  {
   "cell_type": "code",
   "execution_count": 6,
   "metadata": {},
   "outputs": [],
   "source": [
    "class Autoencoder2(Model):\n",
    "    def __init__(self, dim1, dim2, dim3, latent_dim):\n",
    "        super(Autoencoder2, self).__init__()\n",
    "        #super().__init__()\n",
    "        self.dim1 = dim1\n",
    "        self.dim2 = dim2\n",
    "        self.dim3 = dim3\n",
    "        self.latent_dim = latent_dim\n",
    "        self.encoder = tf.keras.Sequential([\n",
    "            Input(shape=(2000, )), #d\n",
    "            Dense(dim1, activation='relu'), #500\n",
    "            Dense(dim2, activation='relu'), #500\n",
    "            Dense(dim3, activation='relu'), #2000\n",
    "            Dense(latent_dim) # 10\n",
    "        ])\n",
    "        self.decoder = tf.keras.Sequential([\n",
    "            Dense(dim3, activation='relu'), # 2000\n",
    "            Dense(dim2, activation='relu'), # 500\n",
    "            Dense(dim1, activation='relu'), # 500\n",
    "            Dense(2000), # d\n",
    "        ])\n",
    "        \n",
    "    def call(self, x):\n",
    "        encoded = self.encoder(x)\n",
    "        decoded = self.decoder(encoded)\n",
    "        return decoded"
   ]
  },
  {
   "cell_type": "code",
   "execution_count": 7,
   "metadata": {},
   "outputs": [],
   "source": [
    "autoencoder = Autoencoder(500, 500, 2000, 10)\n",
    "autoencoder.compile(optimizer='sgd', loss=MeanSquaredError())"
   ]
  },
  {
   "cell_type": "code",
   "execution_count": 8,
   "metadata": {
    "scrolled": true
   },
   "outputs": [],
   "source": [
    "epochs = 50\n",
    "batch_size = 256\n",
    "\n",
    "if os.path.exists(f\"model/fashion-mnist_AE_model({epochs}epochs).h5\"):\n",
    "    autoencoder.fit(x_train, x_train,\n",
    "                                epochs=1,\n",
    "                                shuffle=True,\n",
    "                                batch_size=batch_size,\n",
    "                                verbose=0,\n",
    "                                validation_data=(x_test, x_test))\n",
    "    autoencoder.load_weights(f\"model/fashion-mnist_AE_model({epochs}epochs).h5\")\n",
    "    start = 0.0\n",
    "    end = 0.0\n",
    "\n",
    "else:\n",
    "    start = time()\n",
    "#     autoencoder = Autoencoder(500, 500, 2000, 10)\n",
    "#     autoencoder.compile(optimizer='sgd', loss=MeanSquaredError())\n",
    "    mnist_history = autoencoder.fit(x_train, x_train,\n",
    "                                epochs=epochs,\n",
    "                                shuffle=True,\n",
    "                                batch_size=batch_size,\n",
    "                                verbose=2,\n",
    "                                validation_data=(x_test, x_test))\n",
    "\n",
    "    end = time()\n",
    "\n",
    "    autoencoder.save_weights(f\"model/fashion-mnist_AE_model({epochs}epochs).h5\")"
   ]
  },
  {
   "cell_type": "code",
   "execution_count": 9,
   "metadata": {},
   "outputs": [
    {
     "name": "stdout",
     "output_type": "stream",
     "text": [
      "Elapsed Time for Training Deep Autoencoder : 0.000 sec.\n"
     ]
    }
   ],
   "source": [
    "print(\"Elapsed Time for Training Deep Autoencoder : %.3f sec.\" % (end - start)) "
   ]
  },
  {
   "cell_type": "markdown",
   "metadata": {},
   "source": [
    "### Visualized decoded images "
   ]
  },
  {
   "cell_type": "code",
   "execution_count": 10,
   "metadata": {},
   "outputs": [],
   "source": [
    "encoded_imgs = autoencoder.encoder(x_test).numpy()\n",
    "decoded_imgs = autoencoder.decoder(encoded_imgs).numpy()"
   ]
  },
  {
   "cell_type": "code",
   "execution_count": 11,
   "metadata": {},
   "outputs": [
    {
     "data": {
      "image/png": "[encoded data removed]",
      "text/plain": [
       "<Figure size 1440x288 with 20 Axes>"
      ]
     },
     "metadata": {
      "needs_background": "light"
     },
     "output_type": "display_data"
    }
   ],
   "source": [
    "n = 10\n",
    "plt.figure(figsize=(20, 4))\n",
    "for i in range(n):\n",
    "    # display original\n",
    "    ax = plt.subplot(2, n, i + 1)\n",
    "    plt.imshow(x_test[i])\n",
    "    plt.title(\"original\")\n",
    "    plt.gray()\n",
    "    ax.get_xaxis().set_visible(False)\n",
    "    ax.get_yaxis().set_visible(False)\n",
    "\n",
    "    # display reconstruction\n",
    "    ax = plt.subplot(2, n, i + 1 + n)\n",
    "    plt.imshow(decoded_imgs[i])\n",
    "    plt.title(\"reconstructed\")\n",
    "    plt.gray()\n",
    "    ax.get_xaxis().set_visible(False)\n",
    "    ax.get_yaxis().set_visible(False)\n",
    "plt.show()"
   ]
  },
  {
   "cell_type": "markdown",
   "metadata": {},
   "source": [
    "### fashion-mnist Spectral Clustering "
   ]
  },
  {
   "cell_type": "code",
   "execution_count": 12,
   "metadata": {},
   "outputs": [
    {
     "name": "stdout",
     "output_type": "stream",
     "text": [
      "Latent features are set.\n",
      "\n",
      "Start Spectral Embedding\n",
      "\n",
      "ARI : 0.162\n",
      "NMI : 0.280\n",
      "Elasped Time for 5.320\n"
     ]
    }
   ],
   "source": [
    "K = 5\n",
    "n_clusters = 10\n",
    "\n",
    "x = np.concatenate([x_train, x_test]) # 70000 imgs\n",
    "y = np.concatenate([y_train, y_test]) # 70000 labels\n",
    "\n",
    "Z = autoencoder.encoder(x).numpy() # latent features (10dim)\n",
    "print(\"Latent features are set.\\n\")\n",
    "\n",
    "# if os.path.exists(file_name):\n",
    "#     with open(file_name, \"rb\") as f:\n",
    "#         L = np.load(f)\n",
    "\n",
    "# else:\n",
    "#     L = pairwise_distances(Z, n_jobs=16) # affinity matrix\n",
    "#     with open(file_name, \"wb\") as f:\n",
    "#         np.save(f, L)\n",
    "    \n",
    "#print(\"Normalized Laplacian Matrix is set.\\n\\n\")\n",
    "\n",
    "print(\"Start Spectral Embedding\\n\")\n",
    "start_sc = time()\n",
    "se_model = SpectralEmbedding(n_components=K, n_neighbors=n_clusters, eigen_solver='amg', n_jobs=-1)\n",
    "se_vec = se_model.fit_transform(Z)\n",
    "#se_vec = normalize(se_vec, norm='l2')\n",
    "kmeans = KMeans(n_clusters=n_clusters, n_init=20, n_jobs=-1).fit(se_vec)\n",
    "y_pred = kmeans.labels_\n",
    "end_sc = time()\n",
    "\n",
    "print(\"ARI : %.3f\" % adjusted_rand_score(y, y_pred))\n",
    "print(\"NMI : %.3f\" % normalized_mutual_info_score(y, y_pred))\n",
    "print(\"Elasped Time for %.3f\" % (end_sc - start_sc))"
   ]
  },
  {
   "cell_type": "markdown",
   "metadata": {},
   "source": [
    "### 20newsgroup training "
   ]
  },
  {
   "cell_type": "code",
   "execution_count": 13,
   "metadata": {},
   "outputs": [],
   "source": [
    "autoencoder2 = Autoencoder2(500, 500, 2000, 10)\n",
    "autoencoder2.compile(optimizer='sgd', loss=MeanSquaredError())"
   ]
  },
  {
   "cell_type": "code",
   "execution_count": 14,
   "metadata": {
    "scrolled": true
   },
   "outputs": [
    {
     "name": "stdout",
     "output_type": "stream",
     "text": [
      "Train on 14134 samples, validate on 4712 samples\n",
      "Epoch 1/50\n",
      "14134/14134 - 1s - loss: 5.0012e-04 - val_loss: 5.0003e-04\n",
      "Epoch 2/50\n",
      "14134/14134 - 0s - loss: 5.0003e-04 - val_loss: 5.0001e-04\n",
      "Epoch 3/50\n",
      "14134/14134 - 0s - loss: 4.9994e-04 - val_loss: 4.9999e-04\n",
      "Epoch 4/50\n",
      "14134/14134 - 0s - loss: 4.9986e-04 - val_loss: 4.9996e-04\n",
      "Epoch 5/50\n",
      "14134/14134 - 0s - loss: 4.9977e-04 - val_loss: 4.9994e-04\n",
      "Epoch 6/50\n",
      "14134/14134 - 0s - loss: 4.9968e-04 - val_loss: 4.9992e-04\n",
      "Epoch 7/50\n",
      "14134/14134 - 0s - loss: 4.9960e-04 - val_loss: 4.9990e-04\n",
      "Epoch 8/50\n",
      "14134/14134 - 0s - loss: 4.9951e-04 - val_loss: 4.9987e-04\n",
      "Epoch 9/50\n",
      "14134/14134 - 0s - loss: 4.9943e-04 - val_loss: 4.9985e-04\n",
      "Epoch 10/50\n",
      "14134/14134 - 0s - loss: 4.9934e-04 - val_loss: 4.9983e-04\n",
      "Epoch 11/50\n",
      "14134/14134 - 0s - loss: 4.9925e-04 - val_loss: 4.9981e-04\n",
      "Epoch 12/50\n",
      "14134/14134 - 0s - loss: 4.9917e-04 - val_loss: 4.9978e-04\n",
      "Epoch 13/50\n",
      "14134/14134 - 0s - loss: 4.9908e-04 - val_loss: 4.9976e-04\n",
      "Epoch 14/50\n",
      "14134/14134 - 0s - loss: 4.9900e-04 - val_loss: 4.9974e-04\n",
      "Epoch 15/50\n",
      "14134/14134 - 0s - loss: 4.9891e-04 - val_loss: 4.9972e-04\n",
      "Epoch 16/50\n",
      "14134/14134 - 0s - loss: 4.9883e-04 - val_loss: 4.9970e-04\n",
      "Epoch 17/50\n",
      "14134/14134 - 0s - loss: 4.9874e-04 - val_loss: 4.9967e-04\n",
      "Epoch 18/50\n",
      "14134/14134 - 0s - loss: 4.9866e-04 - val_loss: 4.9965e-04\n",
      "Epoch 19/50\n",
      "14134/14134 - 0s - loss: 4.9858e-04 - val_loss: 4.9963e-04\n",
      "Epoch 20/50\n",
      "14134/14134 - 0s - loss: 4.9849e-04 - val_loss: 4.9961e-04\n",
      "Epoch 21/50\n",
      "14134/14134 - 0s - loss: 4.9841e-04 - val_loss: 4.9959e-04\n",
      "Epoch 22/50\n",
      "14134/14134 - 0s - loss: 4.9833e-04 - val_loss: 4.9957e-04\n",
      "Epoch 23/50\n",
      "14134/14134 - 0s - loss: 4.9824e-04 - val_loss: 4.9955e-04\n",
      "Epoch 24/50\n",
      "14134/14134 - 0s - loss: 4.9816e-04 - val_loss: 4.9953e-04\n",
      "Epoch 25/50\n",
      "14134/14134 - 0s - loss: 4.9808e-04 - val_loss: 4.9951e-04\n",
      "Epoch 26/50\n",
      "14134/14134 - 0s - loss: 4.9799e-04 - val_loss: 4.9948e-04\n",
      "Epoch 27/50\n",
      "14134/14134 - 0s - loss: 4.9791e-04 - val_loss: 4.9946e-04\n",
      "Epoch 28/50\n",
      "14134/14134 - 0s - loss: 4.9783e-04 - val_loss: 4.9944e-04\n",
      "Epoch 29/50\n",
      "14134/14134 - 0s - loss: 4.9775e-04 - val_loss: 4.9942e-04\n",
      "Epoch 30/50\n",
      "14134/14134 - 0s - loss: 4.9766e-04 - val_loss: 4.9940e-04\n",
      "Epoch 31/50\n",
      "14134/14134 - 0s - loss: 4.9758e-04 - val_loss: 4.9938e-04\n",
      "Epoch 32/50\n",
      "14134/14134 - 0s - loss: 4.9750e-04 - val_loss: 4.9936e-04\n",
      "Epoch 33/50\n",
      "14134/14134 - 0s - loss: 4.9742e-04 - val_loss: 4.9934e-04\n",
      "Epoch 34/50\n",
      "14134/14134 - 0s - loss: 4.9734e-04 - val_loss: 4.9932e-04\n",
      "Epoch 35/50\n",
      "14134/14134 - 0s - loss: 4.9726e-04 - val_loss: 4.9930e-04\n",
      "Epoch 36/50\n",
      "14134/14134 - 0s - loss: 4.9718e-04 - val_loss: 4.9928e-04\n",
      "Epoch 37/50\n",
      "14134/14134 - 0s - loss: 4.9710e-04 - val_loss: 4.9926e-04\n",
      "Epoch 38/50\n",
      "14134/14134 - 0s - loss: 4.9701e-04 - val_loss: 4.9924e-04\n",
      "Epoch 39/50\n",
      "14134/14134 - 0s - loss: 4.9693e-04 - val_loss: 4.9922e-04\n",
      "Epoch 40/50\n",
      "14134/14134 - 0s - loss: 4.9685e-04 - val_loss: 4.9920e-04\n",
      "Epoch 41/50\n",
      "14134/14134 - 0s - loss: 4.9677e-04 - val_loss: 4.9919e-04\n",
      "Epoch 42/50\n",
      "14134/14134 - 0s - loss: 4.9669e-04 - val_loss: 4.9917e-04\n",
      "Epoch 43/50\n",
      "14134/14134 - 0s - loss: 4.9661e-04 - val_loss: 4.9915e-04\n",
      "Epoch 44/50\n",
      "14134/14134 - 0s - loss: 4.9653e-04 - val_loss: 4.9913e-04\n",
      "Epoch 45/50\n",
      "14134/14134 - 0s - loss: 4.9645e-04 - val_loss: 4.9911e-04\n",
      "Epoch 46/50\n",
      "14134/14134 - 0s - loss: 4.9638e-04 - val_loss: 4.9909e-04\n",
      "Epoch 47/50\n",
      "14134/14134 - 0s - loss: 4.9630e-04 - val_loss: 4.9907e-04\n",
      "Epoch 48/50\n",
      "14134/14134 - 0s - loss: 4.9622e-04 - val_loss: 4.9905e-04\n",
      "Epoch 49/50\n",
      "14134/14134 - 0s - loss: 4.9614e-04 - val_loss: 4.9903e-04\n",
      "Epoch 50/50\n",
      "14134/14134 - 0s - loss: 4.9606e-04 - val_loss: 4.9901e-04\n"
     ]
    }
   ],
   "source": [
    "os.environ[\"CUDA_VISIBLE_DEVICES\"] = '1'\n",
    "\n",
    "epochs = 50\n",
    "batch_size = 256\n",
    "\n",
    "if os.path.exists(f\"model/newsgroup_AE_model({epochs}epochs).h5\"):\n",
    "    autoencoder2.fit(tfidf_X_train, tfidf_X_train,\n",
    "                                epochs=1,\n",
    "                                shuffle=True,\n",
    "                                batch_size=batch_size,\n",
    "                                verbose=2,\n",
    "                                validation_data=(tfidf_X_test, tfidf_X_test))\n",
    "    autoencoder2.load_weights(f\"model/newsgroup_AE_model({epochs}epochs).h5\")\n",
    "    start = end = 0.0\n",
    "\n",
    "else:\n",
    "    start = time()\n",
    "    news_history = autoencoder2.fit(tfidf_X_train, tfidf_X_train,\n",
    "                                epochs=epochs,\n",
    "                                shuffle=True,\n",
    "                                batch_size=batch_size,\n",
    "                                verbose=2,\n",
    "                                validation_data=(tfidf_X_test, tfidf_X_test))\n",
    "\n",
    "    end = time()\n",
    "    autoencoder2.save_weights(f\"model/newsgroup_AE_model({epochs}epochs).h5\")"
   ]
  },
  {
   "cell_type": "code",
   "execution_count": 15,
   "metadata": {},
   "outputs": [
    {
     "name": "stdout",
     "output_type": "stream",
     "text": [
      "Elapsed Time for Training Deep Autoencoder : 15.589 sec.\n"
     ]
    }
   ],
   "source": [
    "print(\"Elapsed Time for Training Deep Autoencoder : %.3f sec.\" % (end - start))"
   ]
  },
  {
   "cell_type": "markdown",
   "metadata": {},
   "source": [
    "### 20newsgroup Spectral clustering "
   ]
  },
  {
   "cell_type": "code",
   "execution_count": 16,
   "metadata": {},
   "outputs": [
    {
     "name": "stdout",
     "output_type": "stream",
     "text": [
      "Tfidf Matrix is set.\n",
      "\n",
      "\n",
      "Start Spectral Clustering\n",
      "\n",
      "End Spectral Clustering\n",
      "\n",
      "ARI : 0.067\n",
      "NMI : 0.187\n",
      "Elapsed Time for SC : 45.132\n"
     ]
    }
   ],
   "source": [
    "K = 5\n",
    "n_clusters = 20\n",
    "#file_name2 = \"20news_matrix(L2).npy\"\n",
    "file_name2 = \"data/20news_tfidfVec.pk\"\n",
    "\n",
    "if os.path.exists(file_name2):\n",
    "    with open(file_name2, \"rb\") as f:\n",
    "        tfidf_X = pickle.load(f)\n",
    "\n",
    "else:\n",
    "    tfidf_X = vectorizer.fit_transform(X)\n",
    "    \n",
    "    with open(file_name2, \"wb\") as f:\n",
    "        pickle.dump(tfidf_X, f)\n",
    "    \n",
    "print(\"Tfidf Matrix is set.\\n\\n\")\n",
    "\n",
    "print(\"Start Spectral Clustering\\n\")\n",
    "start_sc = time()\n",
    "#se_model2 = SpectralEmbedding(n_components=K, n_neighbors=n_clusters, eigen_solver='amg', n_jobs=-1)\n",
    "se_model2 = SpectralEmbedding(n_components=K, affinity='rbf', n_jobs=-1)\n",
    "se_vec2 = se_model2.fit_transform(tfidf_X)\n",
    "#se_vec2 = normalize(se_vec2, norm='l2')\n",
    "kmeans2 = KMeans(n_clusters=n_clusters, n_init=20, n_jobs=-1).fit(se_vec2)\n",
    "Y_pred = kmeans2.labels_\n",
    "end_sc = time()\n",
    "\n",
    "print(\"End Spectral Clustering\\n\")\n",
    "\n",
    "print(\"ARI : %.3f\" % adjusted_rand_score(Y, Y_pred))\n",
    "print(\"NMI : %.3f\" % normalized_mutual_info_score(Y, Y_pred))\n",
    "print(\"Elapsed Time for SC : %.3f\" % (end_sc - start_sc))"
   ]
  },
  {
   "cell_type": "code",
   "execution_count": null,
   "metadata": {},
   "outputs": [],
   "source": []
  }
 ],
 "metadata": {
  "kernelspec": {
   "display_name": "Python 3",
   "language": "python",
   "name": "python3"
  },
  "language_info": {
   "codemirror_mode": {
    "name": "ipython",
    "version": 3
   },
   "file_extension": ".py",
   "mimetype": "text/x-python",
   "name": "python",
   "nbconvert_exporter": "python",
   "pygments_lexer": "ipython3",
   "version": "3.7.6"
  }
 },
 "nbformat": 4,
 "nbformat_minor": 4
}
