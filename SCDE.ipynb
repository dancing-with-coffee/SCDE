{
 "cells": [
  {
   "cell_type": "markdown",
   "metadata": {},
   "source": [
    "## To-do List\n",
    "\n",
    "1) keras로 Deep Autoencoder\n",
    "(same as in DEC) --> DEC 관련 논문 3개는 읽어봐야 할듯.\n",
    "\n",
    "**hyperparameter**\n",
    "- d-500-500-2000-10-2000-500-500-d (deep autoencoder)\n",
    "- activation : ReLU\n",
    "- epochs : 50\n",
    "- minibatch size : 256\n",
    "\n",
    "\n",
    "2) sklearn으로 Spectral Clustering\n",
    "- K-NN Graph에서 K는 5로 고정되어있다. (fashion-MNIST, 20newsgroup)"
   ]
  },
  {
   "cell_type": "code",
   "execution_count": 1,
   "metadata": {},
   "outputs": [],
   "source": [
    "from time import time\n",
    "import os\n",
    "import pickle\n",
    "\n",
    "import numpy as np\n",
    "import tensorflow as tf\n",
    "import tensorflow.keras.backend as K\n",
    "from tensorflow.keras.datasets import fashion_mnist\n",
    "from tensorflow.keras.layers import Input, Dense, Flatten, Reshape\n",
    "from tensorflow.keras.models import Model\n",
    "from tensorflow.keras.losses import MeanSquaredError\n",
    "\n",
    "import matplotlib.pyplot as plt\n",
    "%matplotlib inline"
   ]
  },
  {
   "cell_type": "code",
   "execution_count": 2,
   "metadata": {},
   "outputs": [],
   "source": [
    "from sklearn.datasets import fetch_20newsgroups\n",
    "from sklearn.cluster import SpectralClustering\n",
    "from sklearn.feature_extraction.text import TfidfVectorizer\n",
    "from sklearn.model_selection import train_test_split\n",
    "\n",
    "from sklearn.metrics import pairwise_distances\n",
    "\n",
    "from sklearn.metrics import adjusted_rand_score\n",
    "from sklearn.metrics import normalized_mutual_info_score"
   ]
  },
  {
   "cell_type": "markdown",
   "metadata": {},
   "source": [
    "### fashion-mnist load "
   ]
  },
  {
   "cell_type": "code",
   "execution_count": 3,
   "metadata": {},
   "outputs": [
    {
     "name": "stdout",
     "output_type": "stream",
     "text": [
      "(60000, 28, 28)\n",
      "(10000, 28, 28)\n",
      "(60000,)\n",
      "(10000,)\n"
     ]
    }
   ],
   "source": [
    "(x_train, y_train), (x_test, y_test) = fashion_mnist.load_data()\n",
    "\n",
    "x_train = x_train.astype(\"float32\") / 255.\n",
    "x_test = x_test.astype(\"float32\") / 255.\n",
    "\n",
    "y_train = y_train.astype(\"float32\") / 255.\n",
    "y_test = y_test.astype(\"float32\") / 255.\n",
    "\n",
    "print(x_train.shape)\n",
    "print(x_test.shape)\n",
    "print(y_train.shape)\n",
    "print(y_test.shape)"
   ]
  },
  {
   "cell_type": "markdown",
   "metadata": {},
   "source": [
    "### 20newsgroup load "
   ]
  },
  {
   "cell_type": "code",
   "execution_count": 4,
   "metadata": {},
   "outputs": [
    {
     "name": "stdout",
     "output_type": "stream",
     "text": [
      "14134\n",
      "4712\n",
      "14134\n",
      "4712\n",
      "(14134, 2000)\n",
      "(4712, 2000)\n"
     ]
    }
   ],
   "source": [
    "dataset = fetch_20newsgroups(subset='all')\n",
    "X = dataset.data\n",
    "y = dataset.target\n",
    "\n",
    "\n",
    "X_train, X_test, Y_train, Y_test = train_test_split(X, y, test_size=0.25,\n",
    "                                                   random_state=42)\n",
    "\n",
    "print(len(X_train))\n",
    "print(len(X_test))\n",
    "print(len(Y_train))\n",
    "print(len(Y_test))\n",
    "\n",
    "vectorizer = TfidfVectorizer(max_features=2000)\n",
    "\n",
    "tfidf_X_train = vectorizer.fit_transform(X_train).toarray()\n",
    "tfidf_X_test = vectorizer.fit_transform(X_test).toarray()\n",
    "print(tfidf_X_train.shape)\n",
    "print(tfidf_X_test.shape)"
   ]
  },
  {
   "cell_type": "markdown",
   "metadata": {},
   "source": [
    "### Autoencoder for fashion-mnist "
   ]
  },
  {
   "cell_type": "code",
   "execution_count": 5,
   "metadata": {},
   "outputs": [],
   "source": [
    "class Autoencoder(Model):\n",
    "    def __init__(self, dim1, dim2, dim3, latent_dim):\n",
    "        super(Autoencoder, self).__init__()\n",
    "        #super().__init__()\n",
    "        self.dim1 = dim1\n",
    "        self.dim2 = dim2\n",
    "        self.dim3 = dim3\n",
    "        self.latent_dim = latent_dim\n",
    "        self.encoder = tf.keras.Sequential([\n",
    "            Input(shape=(28, 28)),\n",
    "            Flatten(),\n",
    "            Dense(dim1, activation='relu'), #500\n",
    "            Dense(dim2, activation='relu'), #500\n",
    "            Dense(dim3, activation='relu'), #2000\n",
    "            Dense(latent_dim) # 10\n",
    "        ])\n",
    "        self.decoder = tf.keras.Sequential([\n",
    "            Dense(dim3, activation='relu'), # 2000\n",
    "            Dense(dim2, activation='relu'), # 500\n",
    "            Dense(dim1, activation='relu'), # 500\n",
    "            Dense(784), # d\n",
    "            Reshape((28, 28))\n",
    "        ])\n",
    "        \n",
    "    def call(self, x):\n",
    "        encoded = self.encoder(x)\n",
    "        decoded = self.decoder(encoded)\n",
    "        return decoded"
   ]
  },
  {
   "cell_type": "markdown",
   "metadata": {},
   "source": [
    "### Autoencoder for 20newsgroup "
   ]
  },
  {
   "cell_type": "code",
   "execution_count": 6,
   "metadata": {},
   "outputs": [],
   "source": [
    "class Autoencoder2(Model):\n",
    "    def __init__(self, dim1, dim2, dim3, latent_dim):\n",
    "        super(Autoencoder2, self).__init__()\n",
    "        #super().__init__()\n",
    "        self.dim1 = dim1\n",
    "        self.dim2 = dim2\n",
    "        self.dim3 = dim3\n",
    "        self.latent_dim = latent_dim\n",
    "        self.encoder = tf.keras.Sequential([\n",
    "            Input(shape=(2000, )), #d\n",
    "            Dense(dim1, activation='relu'), #500\n",
    "            Dense(dim2, activation='relu'), #500\n",
    "            Dense(dim3, activation='relu'), #2000\n",
    "            Dense(latent_dim) # 10\n",
    "        ])\n",
    "        self.decoder = tf.keras.Sequential([\n",
    "            Dense(dim3, activation='relu'), # 2000\n",
    "            Dense(dim2, activation='relu'), # 500\n",
    "            Dense(dim1, activation='relu'), # 500\n",
    "            Dense(2000), # d\n",
    "        ])\n",
    "        \n",
    "    def call(self, x):\n",
    "        encoded = self.encoder(x)\n",
    "        decoded = self.decoder(encoded)\n",
    "        return decoded"
   ]
  },
  {
   "cell_type": "code",
   "execution_count": 7,
   "metadata": {},
   "outputs": [],
   "source": [
    "autoencoder = Autoencoder(500, 500, 2000, 10)\n",
    "autoencoder.compile(optimizer='sgd', loss=MeanSquaredError())"
   ]
  },
  {
   "cell_type": "code",
   "execution_count": 8,
   "metadata": {},
   "outputs": [],
   "source": [
    "epochs = 50\n",
    "batch_size = 256\n",
    "\n",
    "if os.path.exists(\"fashion-mnist_AE_model.h5\"):\n",
    "    autoencoder.fit(x_train, x_train,\n",
    "                                epochs=1,\n",
    "                                shuffle=True,\n",
    "                                batch_size=batch_size,\n",
    "                                verbose=0,\n",
    "                                validation_data=(x_test, x_test))\n",
    "    autoencoder.load_weights(\"fashion-mnist_AE_model.h5\")\n",
    "    start = 0.0\n",
    "    end = 0.0\n",
    "\n",
    "else:\n",
    "    start = time()\n",
    "#     autoencoder = Autoencoder(500, 500, 2000, 10)\n",
    "#     autoencoder.compile(optimizer='sgd', loss=MeanSquaredError())\n",
    "    mnist_history = autoencoder.fit(x_train, x_train,\n",
    "                                epochs=epochs,\n",
    "                                shuffle=True,\n",
    "                                batch_size=batch_size,\n",
    "                                verbose=2,\n",
    "                                validation_data=(x_test, x_test))\n",
    "\n",
    "    end = time()\n",
    "\n",
    "    autoencoder.save_weights(\"fashion-mnist_AE_model.h5\")"
   ]
  },
  {
   "cell_type": "code",
   "execution_count": 9,
   "metadata": {},
   "outputs": [
    {
     "name": "stdout",
     "output_type": "stream",
     "text": [
      "Elapsed Time for Training Deep Autoencoder : 0.000 sec.\n"
     ]
    }
   ],
   "source": [
    "print(\"Elapsed Time for Training Deep Autoencoder : %.3f sec.\" % (end - start)) "
   ]
  },
  {
   "cell_type": "markdown",
   "metadata": {},
   "source": [
    "### Visualized decoded images "
   ]
  },
  {
   "cell_type": "code",
   "execution_count": 10,
   "metadata": {},
   "outputs": [],
   "source": [
    "encoded_imgs = autoencoder.encoder(x_test).numpy()\n",
    "decoded_imgs = autoencoder.decoder(encoded_imgs).numpy()"
   ]
  },
  {
   "cell_type": "code",
   "execution_count": 11,
   "metadata": {},
   "outputs": [
    {
     "data": {
      "image/png": "[encoded data removed]",
      "text/plain": [
       "<Figure size 1440x288 with 20 Axes>"
      ]
     },
     "metadata": {
      "needs_background": "light"
     },
     "output_type": "display_data"
    }
   ],
   "source": [
    "n = 10\n",
    "plt.figure(figsize=(20, 4))\n",
    "for i in range(n):\n",
    "    # display original\n",
    "    ax = plt.subplot(2, n, i + 1)\n",
    "    plt.imshow(x_test[i])\n",
    "    plt.title(\"original\")\n",
    "    plt.gray()\n",
    "    ax.get_xaxis().set_visible(False)\n",
    "    ax.get_yaxis().set_visible(False)\n",
    "\n",
    "    # display reconstruction\n",
    "    ax = plt.subplot(2, n, i + 1 + n)\n",
    "    plt.imshow(decoded_imgs[i])\n",
    "    plt.title(\"reconstructed\")\n",
    "    plt.gray()\n",
    "    ax.get_xaxis().set_visible(False)\n",
    "    ax.get_yaxis().set_visible(False)\n",
    "plt.show()"
   ]
  },
  {
   "cell_type": "markdown",
   "metadata": {},
   "source": [
    "### fashion-mnist Spectral Clustering "
   ]
  },
  {
   "cell_type": "code",
   "execution_count": 12,
   "metadata": {},
   "outputs": [
    {
     "name": "stdout",
     "output_type": "stream",
     "text": [
      "Latent features are set.\n",
      "\n",
      "Normalized Laplacian Matrix is set.\n",
      "\n",
      "\n",
      "Start Spectral Clustering\n",
      "\n",
      "ARI : 0.228\n",
      "NMI : 0.356\n",
      "Elasped Time for 80.221\n"
     ]
    }
   ],
   "source": [
    "K = 5\n",
    "n_clusters = 10\n",
    "file_name = \"fashion-mnist_matrix(L2).npy\"\n",
    "\n",
    "x = np.concatenate([x_train, x_test]) # 70000 imgs\n",
    "y = np.concatenate([y_train, y_test]) # 70000 labels\n",
    "\n",
    "Z = autoencoder.encoder(x).numpy() # latent features (10dim)\n",
    "print(\"Latent features are set.\\n\")\n",
    "\n",
    "if os.path.exists(file_name):\n",
    "    with open(file_name, \"rb\") as f:\n",
    "        L = np.load(f)\n",
    "\n",
    "else:\n",
    "    L = pairwise_distances(Z, n_jobs=16) # affinity matrix\n",
    "    with open(file_name, \"wb\") as f:\n",
    "        np.save(f, L)\n",
    "    \n",
    "print(\"Normalized Laplacian Matrix is set.\\n\\n\")\n",
    "\n",
    "print(\"Start Spectral Clustering\\n\")\n",
    "start_sc = time()\n",
    "sc = SpectralClustering(K, n_init=n_clusters, affinity='nearest_neighbors').fit(Z)\n",
    "end_sc = time()\n",
    "\n",
    "print(\"ARI : %.3f\" % adjusted_rand_score(sc.labels_, y))\n",
    "print(\"NMI : %.3f\" % normalized_mutual_info_score(sc.labels_, y))\n",
    "print(\"Elasped Time for %.3f\" % (end_sc - start_sc))"
   ]
  },
  {
   "cell_type": "markdown",
   "metadata": {},
   "source": [
    "### 20newsgroup training "
   ]
  },
  {
   "cell_type": "code",
   "execution_count": 13,
   "metadata": {},
   "outputs": [],
   "source": [
    "autoencoder2 = Autoencoder2(500, 500, 2000, 10)\n",
    "autoencoder2.compile(optimizer='sgd', loss=MeanSquaredError())"
   ]
  },
  {
   "cell_type": "code",
   "execution_count": 14,
   "metadata": {
    "scrolled": true
   },
   "outputs": [
    {
     "name": "stdout",
     "output_type": "stream",
     "text": [
      "Train on 14134 samples, validate on 4712 samples\n",
      "14134/14134 - 1s - loss: 5.0005e-04 - val_loss: 5.0002e-04\n"
     ]
    }
   ],
   "source": [
    "epochs = 50\n",
    "batch_size = 256\n",
    "\n",
    "if os.path.exists(\"newsgroup_AE_model.h5\"):\n",
    "    autoencoder2.fit(tfidf_X_train, tfidf_X_train,\n",
    "                                epochs=1,\n",
    "                                shuffle=True,\n",
    "                                batch_size=batch_size,\n",
    "                                verbose=2,\n",
    "                                validation_data=(tfidf_X_test, tfidf_X_test))\n",
    "    autoencoder2.load_weights(\"newsgroup_AE_model.h5\")\n",
    "    start = end = 0.0\n",
    "\n",
    "else:\n",
    "    start = time()\n",
    "    news_history = autoencoder2.fit(tfidf_X_train, tfidf_X_train,\n",
    "                                epochs=epochs,\n",
    "                                shuffle=True,\n",
    "                                batch_size=batch_size,\n",
    "                                verbose=2,\n",
    "                                validation_data=(tfidf_X_test, tfidf_X_test))\n",
    "\n",
    "    end = time()\n",
    "    autoencoder2.save_weights(\"newsgroup_AE_model.h5\")"
   ]
  },
  {
   "cell_type": "code",
   "execution_count": 15,
   "metadata": {},
   "outputs": [
    {
     "name": "stdout",
     "output_type": "stream",
     "text": [
      "Elapsed Time for Training Deep Autoencoder : 0.000 sec.\n"
     ]
    }
   ],
   "source": [
    "print(\"Elapsed Time for Training Deep Autoencoder : %.3f sec.\" % (end - start))"
   ]
  },
  {
   "cell_type": "markdown",
   "metadata": {},
   "source": [
    "### 20newsgroup Spectral clustering "
   ]
  },
  {
   "cell_type": "code",
   "execution_count": 16,
   "metadata": {},
   "outputs": [
    {
     "ename": "NameError",
     "evalue": "name 'file_name2' is not defined",
     "output_type": "error",
     "traceback": [
      "\u001b[0;31m---------------------------------------------------------------------------\u001b[0m",
      "\u001b[0;31mNameError\u001b[0m                                 Traceback (most recent call last)",
      "\u001b[0;32m<ipython-input-16-5cca42717f84>\u001b[0m in \u001b[0;36m<module>\u001b[0;34m\u001b[0m\n\u001b[1;32m      5\u001b[0m \u001b[0mtfidf_X\u001b[0m \u001b[0;34m=\u001b[0m \u001b[0mvectorizer\u001b[0m\u001b[0;34m.\u001b[0m\u001b[0mfit_transform\u001b[0m\u001b[0;34m(\u001b[0m\u001b[0mX\u001b[0m\u001b[0;34m)\u001b[0m\u001b[0;34m\u001b[0m\u001b[0;34m\u001b[0m\u001b[0m\n\u001b[1;32m      6\u001b[0m \u001b[0;34m\u001b[0m\u001b[0m\n\u001b[0;32m----> 7\u001b[0;31m \u001b[0;32mif\u001b[0m \u001b[0mos\u001b[0m\u001b[0;34m.\u001b[0m\u001b[0mpath\u001b[0m\u001b[0;34m.\u001b[0m\u001b[0mexists\u001b[0m\u001b[0;34m(\u001b[0m\u001b[0mfile_name2\u001b[0m\u001b[0;34m)\u001b[0m\u001b[0;34m:\u001b[0m\u001b[0;34m\u001b[0m\u001b[0;34m\u001b[0m\u001b[0m\n\u001b[0m\u001b[1;32m      8\u001b[0m     \u001b[0;32mwith\u001b[0m \u001b[0mopen\u001b[0m\u001b[0;34m(\u001b[0m\u001b[0mfile_name2\u001b[0m\u001b[0;34m,\u001b[0m \u001b[0;34m\"rb\"\u001b[0m\u001b[0;34m)\u001b[0m \u001b[0;32mas\u001b[0m \u001b[0mf\u001b[0m\u001b[0;34m:\u001b[0m\u001b[0;34m\u001b[0m\u001b[0;34m\u001b[0m\u001b[0m\n\u001b[1;32m      9\u001b[0m         \u001b[0mL2\u001b[0m \u001b[0;34m=\u001b[0m \u001b[0mnp\u001b[0m\u001b[0;34m.\u001b[0m\u001b[0mload\u001b[0m\u001b[0;34m(\u001b[0m\u001b[0mf\u001b[0m\u001b[0;34m)\u001b[0m\u001b[0;34m\u001b[0m\u001b[0;34m\u001b[0m\u001b[0m\n",
      "\u001b[0;31mNameError\u001b[0m: name 'file_name2' is not defined"
     ]
    }
   ],
   "source": [
    "K = 5\n",
    "n_clusters = 20\n",
    "file_name = \"20news_matrix(L2).npy\"\n",
    "\n",
    "tfidf_X = vectorizer.fit_transform(X)\n",
    "\n",
    "if os.path.exists(file_name2):\n",
    "    with open(file_name2, \"rb\") as f:\n",
    "        L2 = np.load(f)\n",
    "\n",
    "else:\n",
    "    L2 = pairwise_distances(tfidf_X, n_jobs=16)\n",
    "    \n",
    "    with open(file_name, \"wb\") as f:\n",
    "        np.save(f, L2)\n",
    "    \n",
    "print(\"Normalized Laplacian Matrix is set.\\n\\n\")\n",
    "\n",
    "print(\"Start Spectral Clustering\\n\")\n",
    "start_sc = time()\n",
    "sc2 = SpectralClustering(K, n_init=n_clusters, affinity='nearest_neighbors').fit(L2)\n",
    "end_sc = time()\n",
    "print(\"End Spectral Clustering\\n\")\n",
    "\n",
    "print(\"ARI : %.3f\" % adjusted_rand_score(sc2.labels_, y))\n",
    "print(\"NMI : %.3f\" % normalized_mutual_info_score(sc2.labels_, y))\n",
    "print(\"Elapsed Time for SC : %.3f\" % (end_sc - start_sc))"
   ]
  },
  {
   "cell_type": "code",
   "execution_count": null,
   "metadata": {},
   "outputs": [],
   "source": []
  }
 ],
 "metadata": {
  "kernelspec": {
   "display_name": "Python 3",
   "language": "python",
   "name": "python3"
  },
  "language_info": {
   "codemirror_mode": {
    "name": "ipython",
    "version": 3
   },
   "file_extension": ".py",
   "mimetype": "text/x-python",
   "name": "python",
   "nbconvert_exporter": "python",
   "pygments_lexer": "ipython3",
   "version": "3.7.6"
  }
 },
 "nbformat": 4,
 "nbformat_minor": 4
}
